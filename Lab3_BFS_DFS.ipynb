{
 "cells": [
  {
   "cell_type": "markdown",
   "id": "d62d4977",
   "metadata": {},
   "source": [
    "# DFS & BFS"
   ]
  },
  {
   "cell_type": "code",
   "execution_count": 41,
   "id": "75171eff",
   "metadata": {},
   "outputs": [],
   "source": [
    "#Input Graph(g)\n",
    "\n",
    "graph = {'A': set(['B', 'C']),\n",
    "         'B': set(['A', 'D', 'E']),\n",
    "         'C': set(['A', 'F']),\n",
    "         'D': set(['B']),\n",
    "         'E': set(['B', 'F']),\n",
    "         'F': set(['C', 'E'])}"
   ]
  },
  {
   "cell_type": "code",
   "execution_count": 42,
   "id": "67c28aad",
   "metadata": {},
   "outputs": [
    {
     "name": "stdout",
     "output_type": "stream",
     "text": [
      "{'A': {'C', 'B'}, 'B': {'E', 'A', 'D'}, 'C': {'A', 'F'}, 'D': {'B'}, 'E': {'B', 'F'}, 'F': {'E', 'C'}}\n"
     ]
    }
   ],
   "source": [
    "print(graph)"
   ]
  },
  {
   "cell_type": "code",
   "execution_count": 43,
   "id": "badb5c57",
   "metadata": {},
   "outputs": [
    {
     "data": {
      "text/plain": [
       "{'A': {'B', 'C'},\n",
       " 'B': {'A', 'D', 'E'},\n",
       " 'C': {'A', 'F'},\n",
       " 'D': {'B'},\n",
       " 'E': {'B', 'F'},\n",
       " 'F': {'C', 'E'}}"
      ]
     },
     "execution_count": 43,
     "metadata": {},
     "output_type": "execute_result"
    }
   ],
   "source": [
    "graph"
   ]
  },
  {
   "cell_type": "markdown",
   "id": "454729dc",
   "metadata": {},
   "source": [
    ".\n",
    "\n",
    "values() is an inbuilt method in Python programming language that returns a view object.\n",
    "#The view object contains the values of the dictionary, as a list.  \n"
   ]
  },
  {
   "cell_type": "code",
   "execution_count": 44,
   "id": "11e0b576",
   "metadata": {},
   "outputs": [
    {
     "data": {
      "text/plain": [
       "dict_values([{'C', 'B'}, {'E', 'A', 'D'}, {'A', 'F'}, {'B'}, {'B', 'F'}, {'E', 'C'}])"
      ]
     },
     "execution_count": 44,
     "metadata": {},
     "output_type": "execute_result"
    }
   ],
   "source": [
    "graph.values()"
   ]
  },
  {
   "cell_type": "code",
   "execution_count": 45,
   "id": "1fbce463",
   "metadata": {},
   "outputs": [],
   "source": [
    " def dfs(graph, start):\n",
    "    visited, stack = set(), [start]\n",
    "    while stack:\n",
    "        vertex = stack.pop()\n",
    "        print(vertex)\n",
    "        if vertex not in visited:\n",
    "            visited.add(vertex)\n",
    "            stack.extend(graph[vertex] - visited)\n",
    "    return visited"
   ]
  },
  {
   "cell_type": "code",
   "execution_count": 46,
   "id": "9e1bc52e",
   "metadata": {},
   "outputs": [
    {
     "name": "stdout",
     "output_type": "stream",
     "text": [
      "A\n",
      "B\n",
      "D\n",
      "E\n",
      "F\n",
      "C\n",
      "C\n"
     ]
    },
    {
     "data": {
      "text/plain": [
       "{'A', 'B', 'C', 'D', 'E', 'F'}"
      ]
     },
     "execution_count": 46,
     "metadata": {},
     "output_type": "execute_result"
    }
   ],
   "source": [
    "dfs(graph, 'A')"
   ]
  },
  {
   "cell_type": "markdown",
   "id": "aabbbfa1",
   "metadata": {},
   "source": [
    "# BFS\n"
   ]
  },
  {
   "cell_type": "code",
   "execution_count": 47,
   "id": "8606bf0b",
   "metadata": {},
   "outputs": [],
   "source": [
    "def bfs(graph, start):\n",
    "    visited, queue = set(), [start]\n",
    "    while queue:\n",
    "        vertex = queue.pop(0)\n",
    "        print(vertex)\n",
    "        if vertex not in visited:\n",
    "            visited.add(vertex)\n",
    "            queue.extend(graph[vertex] - visited)\n",
    "    return visited"
   ]
  },
  {
   "cell_type": "code",
   "execution_count": 48,
   "id": "7eda3162",
   "metadata": {},
   "outputs": [
    {
     "name": "stdout",
     "output_type": "stream",
     "text": [
      "A\n",
      "C\n",
      "B\n",
      "F\n",
      "E\n",
      "D\n",
      "E\n"
     ]
    },
    {
     "data": {
      "text/plain": [
       "{'A', 'B', 'C', 'D', 'E', 'F'}"
      ]
     },
     "execution_count": 48,
     "metadata": {},
     "output_type": "execute_result"
    }
   ],
   "source": [
    "bfs(graph, 'A')"
   ]
  },
  {
   "cell_type": "markdown",
   "id": "580674fd",
   "metadata": {},
   "source": [
    ".\n",
    "\n",
    "\n",
    "test Run"
   ]
  },
  {
   "cell_type": "code",
   "execution_count": 49,
   "id": "f62c1062",
   "metadata": {},
   "outputs": [],
   "source": [
    "#test run \n",
    "\n",
    "def dfs1(graph, start):\n",
    "    visited = set()  # set to keep track of visited nodes\n",
    "    stack = [start]  # stack to keep track of nodes to visit\n",
    "\n",
    "    while stack:\n",
    "        vertex = stack.pop()      # get the next node to visit\n",
    "        print(vertex, \"poped\")                        \n",
    "    \n",
    "        if vertex not in visited:\n",
    "            print(vertex, \"marked as visited\")\n",
    "            visited.add(vertex)  # mark the node as visited\n",
    "            print(graph[vertex] - visited,\"to be visited\")              \n",
    "            stack.extend(graph[vertex] - visited)  # add unvisited neighbors to the stack\n",
    "            print(visited )\n",
    "            print(\" \")\n",
    "    return visited\n"
   ]
  },
  {
   "cell_type": "code",
   "execution_count": 50,
   "id": "72883258",
   "metadata": {
    "scrolled": true
   },
   "outputs": [
    {
     "name": "stdout",
     "output_type": "stream",
     "text": [
      "A poped\n",
      "A marked as visited\n",
      "{'C', 'B'} to be visited\n",
      "{'A'}\n",
      " \n",
      "B poped\n",
      "B marked as visited\n",
      "{'E', 'D'} to be visited\n",
      "{'B', 'A'}\n",
      " \n",
      "D poped\n",
      "D marked as visited\n",
      "set() to be visited\n",
      "{'B', 'A', 'D'}\n",
      " \n",
      "E poped\n",
      "E marked as visited\n",
      "{'F'} to be visited\n",
      "{'E', 'B', 'A', 'D'}\n",
      " \n",
      "F poped\n",
      "F marked as visited\n",
      "{'C'} to be visited\n",
      "{'F', 'E', 'A', 'D', 'B'}\n",
      " \n",
      "C poped\n",
      "C marked as visited\n",
      "set() to be visited\n",
      "{'F', 'E', 'A', 'D', 'C', 'B'}\n",
      " \n",
      "C poped\n"
     ]
    },
    {
     "data": {
      "text/plain": [
       "{'A', 'B', 'C', 'D', 'E', 'F'}"
      ]
     },
     "execution_count": 50,
     "metadata": {},
     "output_type": "execute_result"
    }
   ],
   "source": [
    "dfs1(g,'A')"
   ]
  },
  {
   "cell_type": "code",
   "execution_count": 51,
   "id": "7934c556",
   "metadata": {},
   "outputs": [],
   "source": [
    "def dfs2(graph, start):\n",
    "    visited = set()  # set to keep track of visited nodes\n",
    "    stack = [start]  # stack to keep track of nodes to visit\n",
    "\n",
    "    while stack:\n",
    "        vertex = stack.pop()  # get the next node to visit\n",
    "        if vertex not in visited:\n",
    "            visited.add(vertex)  # mark the node as visited\n",
    "            stack.extend(graph[vertex] - visited)  # add unvisited neighbors to the stack\n",
    "\n",
    "    return visited\n"
   ]
  },
  {
   "cell_type": "code",
   "execution_count": 52,
   "id": "2318d162",
   "metadata": {},
   "outputs": [
    {
     "data": {
      "text/plain": [
       "{'A', 'B', 'C', 'D', 'E', 'F'}"
      ]
     },
     "execution_count": 52,
     "metadata": {},
     "output_type": "execute_result"
    }
   ],
   "source": [
    "dfs2(g,'A')"
   ]
  },
  {
   "cell_type": "markdown",
   "id": "d62dd268",
   "metadata": {},
   "source": [
    "just change         \n",
    "vertex = queue.pop(0)      to the dfs code to change it to bfs code."
   ]
  },
  {
   "cell_type": "code",
   "execution_count": 53,
   "id": "794b4e3e",
   "metadata": {},
   "outputs": [],
   "source": [
    "#test run\n",
    "def bfs(graph, start):\n",
    "    visited, queue = set(), [start]\n",
    "    while queue:\n",
    "        vertex = queue.pop(0)\n",
    "        print(vertex)\n",
    "        if vertex not in visited:\n",
    "            visited.add(vertex)\n",
    "            queue.extend(graph[vertex] - visited)\n",
    "    return visited"
   ]
  },
  {
   "cell_type": "code",
   "execution_count": 54,
   "id": "4a2cc45c",
   "metadata": {},
   "outputs": [
    {
     "name": "stdout",
     "output_type": "stream",
     "text": [
      "A\n",
      "C\n",
      "B\n",
      "F\n",
      "E\n",
      "D\n",
      "E\n"
     ]
    },
    {
     "data": {
      "text/plain": [
       "{'A', 'B', 'C', 'D', 'E', 'F'}"
      ]
     },
     "execution_count": 54,
     "metadata": {},
     "output_type": "execute_result"
    }
   ],
   "source": [
    "bfs(g,'A')"
   ]
  },
  {
   "cell_type": "code",
   "execution_count": null,
   "id": "304336cf",
   "metadata": {},
   "outputs": [],
   "source": []
  },
  {
   "cell_type": "code",
   "execution_count": null,
   "id": "5f6fb06c",
   "metadata": {},
   "outputs": [],
   "source": []
  }
 ],
 "metadata": {
  "kernelspec": {
   "display_name": "Python 3 (ipykernel)",
   "language": "python",
   "name": "python3"
  },
  "language_info": {
   "codemirror_mode": {
    "name": "ipython",
    "version": 3
   },
   "file_extension": ".py",
   "mimetype": "text/x-python",
   "name": "python",
   "nbconvert_exporter": "python",
   "pygments_lexer": "ipython3",
   "version": "3.10.4"
  }
 },
 "nbformat": 4,
 "nbformat_minor": 5
}
